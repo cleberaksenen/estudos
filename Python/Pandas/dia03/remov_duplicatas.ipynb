{
 "cells": [
  {
   "cell_type": "code",
   "execution_count": 1,
   "metadata": {},
   "outputs": [],
   "source": [
    "import pandas as pd"
   ]
  },
  {
   "cell_type": "code",
   "execution_count": 2,
   "metadata": {},
   "outputs": [],
   "source": [
    "df = pd.read_csv(\"../data/student_depression_dataset.csv\", sep=\",\")"
   ]
  },
  {
   "cell_type": "code",
   "execution_count": 3,
   "metadata": {},
   "outputs": [],
   "source": [
    "#df2 = df.drop_duplicates(subset=[\"City\", \"Profession\"], keep=\"first\") \n",
    "df2 = df.drop_duplicates(subset=\"Profession\", keep=\"first\") \n",
    "#Subset considera apenas as variavies selecioandas\n",
    "#Keep = first prioriza o primeiro que ele encontrar"
   ]
  },
  {
   "cell_type": "code",
   "execution_count": 9,
   "metadata": {},
   "outputs": [
    {
     "data": {
      "text/plain": [
       "0                         Student\n",
       "113              'Civil Engineer'\n",
       "422                     Architect\n",
       "1845             'UX/UI Designer'\n",
       "2249           'Digital Marketer'\n",
       "2440             'Content Writer'\n",
       "3639     'Educational Consultant'\n",
       "3841                      Teacher\n",
       "8537                      Manager\n",
       "12124                        Chef\n",
       "15472                      Doctor\n",
       "16108                      Lawyer\n",
       "20801                Entrepreneur\n",
       "25219                  Pharmacist\n",
       "Name: Profession, dtype: object"
      ]
     },
     "execution_count": 9,
     "metadata": {},
     "output_type": "execute_result"
    }
   ],
   "source": [
    "df2[\"Profession\"]"
   ]
  },
  {
   "cell_type": "code",
   "execution_count": null,
   "metadata": {},
   "outputs": [
    {
     "data": {
      "text/plain": [
       "14"
      ]
     },
     "execution_count": 6,
     "metadata": {},
     "output_type": "execute_result"
    }
   ],
   "source": [
    "df2[\"Profession\"].nunique() #Mostra quantos valores unicos"
   ]
  }
 ],
 "metadata": {
  "kernelspec": {
   "display_name": "Python 3",
   "language": "python",
   "name": "python3"
  },
  "language_info": {
   "codemirror_mode": {
    "name": "ipython",
    "version": 3
   },
   "file_extension": ".py",
   "mimetype": "text/x-python",
   "name": "python",
   "nbconvert_exporter": "python",
   "pygments_lexer": "ipython3",
   "version": "3.13.2"
  }
 },
 "nbformat": 4,
 "nbformat_minor": 2
}

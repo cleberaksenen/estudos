{
 "cells": [
  {
   "cell_type": "markdown",
   "id": "86d562ad",
   "metadata": {},
   "source": [
    "## Número palíndromo:\n",
    "Um número é chamado de palíndromo quando ele é igual a si mesmo lido de trás pra frente.\n",
    "### Exemplos:\n",
    "#### 121 → é palíndromo\n",
    "#### 123 → não é\n",
    "#### 9889 → é\n",
    "\n",
    "### Escreva uma função eh_palindromo(n) que verifica se um número é palíndromo."
   ]
  },
  {
   "cell_type": "code",
   "execution_count": 2,
   "id": "b6648aa5",
   "metadata": {},
   "outputs": [],
   "source": [
    "def eh_palindromo(numero):\n",
    "    palindromo = 0\n",
    "    for idx, n in enumerate(numero):\n",
    "        if numero[idx] == numero[-(idx+1)]:\n",
    "            palindromo += 0\n",
    "        else:\n",
    "            palindromo += 1\n",
    "\n",
    "    if palindromo == 0:\n",
    "        return(print(f\"O número {numero} é palíndromo\"))\n",
    "    else:    \n",
    "        return(print(f\"O número {numero} não é palíndromo\"))"
   ]
  },
  {
   "cell_type": "code",
   "execution_count": 3,
   "id": "320459bf",
   "metadata": {},
   "outputs": [
    {
     "name": "stdout",
     "output_type": "stream",
     "text": [
      "O número 898 é palíndromo\n"
     ]
    }
   ],
   "source": [
    "numero = str(input(\"Digite um número: \"))\n",
    "\n",
    "eh_palindromo(numero)"
   ]
  },
  {
   "cell_type": "markdown",
   "id": "db042a97",
   "metadata": {},
   "source": [
    "### Use essa função para imprimir todos os palíndromos entre 1 e 100"
   ]
  },
  {
   "cell_type": "code",
   "execution_count": 4,
   "id": "22484ae1",
   "metadata": {},
   "outputs": [
    {
     "name": "stdout",
     "output_type": "stream",
     "text": [
      "O número 0 é palíndromo\n",
      "O número 1 é palíndromo\n",
      "O número 2 é palíndromo\n",
      "O número 3 é palíndromo\n",
      "O número 4 é palíndromo\n",
      "O número 5 é palíndromo\n",
      "O número 6 é palíndromo\n",
      "O número 7 é palíndromo\n",
      "O número 8 é palíndromo\n",
      "O número 9 é palíndromo\n",
      "O número 10 não é palíndromo\n",
      "O número 11 é palíndromo\n",
      "O número 12 não é palíndromo\n",
      "O número 13 não é palíndromo\n",
      "O número 14 não é palíndromo\n",
      "O número 15 não é palíndromo\n",
      "O número 16 não é palíndromo\n",
      "O número 17 não é palíndromo\n",
      "O número 18 não é palíndromo\n",
      "O número 19 não é palíndromo\n",
      "O número 20 não é palíndromo\n",
      "O número 21 não é palíndromo\n",
      "O número 22 é palíndromo\n",
      "O número 23 não é palíndromo\n",
      "O número 24 não é palíndromo\n",
      "O número 25 não é palíndromo\n",
      "O número 26 não é palíndromo\n",
      "O número 27 não é palíndromo\n",
      "O número 28 não é palíndromo\n",
      "O número 29 não é palíndromo\n",
      "O número 30 não é palíndromo\n",
      "O número 31 não é palíndromo\n",
      "O número 32 não é palíndromo\n",
      "O número 33 é palíndromo\n",
      "O número 34 não é palíndromo\n",
      "O número 35 não é palíndromo\n",
      "O número 36 não é palíndromo\n",
      "O número 37 não é palíndromo\n",
      "O número 38 não é palíndromo\n",
      "O número 39 não é palíndromo\n",
      "O número 40 não é palíndromo\n",
      "O número 41 não é palíndromo\n",
      "O número 42 não é palíndromo\n",
      "O número 43 não é palíndromo\n",
      "O número 44 é palíndromo\n",
      "O número 45 não é palíndromo\n",
      "O número 46 não é palíndromo\n",
      "O número 47 não é palíndromo\n",
      "O número 48 não é palíndromo\n",
      "O número 49 não é palíndromo\n",
      "O número 50 não é palíndromo\n",
      "O número 51 não é palíndromo\n",
      "O número 52 não é palíndromo\n",
      "O número 53 não é palíndromo\n",
      "O número 54 não é palíndromo\n",
      "O número 55 é palíndromo\n",
      "O número 56 não é palíndromo\n",
      "O número 57 não é palíndromo\n",
      "O número 58 não é palíndromo\n",
      "O número 59 não é palíndromo\n",
      "O número 60 não é palíndromo\n",
      "O número 61 não é palíndromo\n",
      "O número 62 não é palíndromo\n",
      "O número 63 não é palíndromo\n",
      "O número 64 não é palíndromo\n",
      "O número 65 não é palíndromo\n",
      "O número 66 é palíndromo\n",
      "O número 67 não é palíndromo\n",
      "O número 68 não é palíndromo\n",
      "O número 69 não é palíndromo\n",
      "O número 70 não é palíndromo\n",
      "O número 71 não é palíndromo\n",
      "O número 72 não é palíndromo\n",
      "O número 73 não é palíndromo\n",
      "O número 74 não é palíndromo\n",
      "O número 75 não é palíndromo\n",
      "O número 76 não é palíndromo\n",
      "O número 77 é palíndromo\n",
      "O número 78 não é palíndromo\n",
      "O número 79 não é palíndromo\n",
      "O número 80 não é palíndromo\n",
      "O número 81 não é palíndromo\n",
      "O número 82 não é palíndromo\n",
      "O número 83 não é palíndromo\n",
      "O número 84 não é palíndromo\n",
      "O número 85 não é palíndromo\n",
      "O número 86 não é palíndromo\n",
      "O número 87 não é palíndromo\n",
      "O número 88 é palíndromo\n",
      "O número 89 não é palíndromo\n",
      "O número 90 não é palíndromo\n",
      "O número 91 não é palíndromo\n",
      "O número 92 não é palíndromo\n",
      "O número 93 não é palíndromo\n",
      "O número 94 não é palíndromo\n",
      "O número 95 não é palíndromo\n",
      "O número 96 não é palíndromo\n",
      "O número 97 não é palíndromo\n",
      "O número 98 não é palíndromo\n",
      "O número 99 é palíndromo\n",
      "O número 100 não é palíndromo\n"
     ]
    }
   ],
   "source": [
    "for n in range(101):\n",
    "    numero = str(n)\n",
    "    eh_palindromo(numero)"
   ]
  },
  {
   "cell_type": "code",
   "execution_count": 24,
   "id": "42cc0784",
   "metadata": {},
   "outputs": [
    {
     "data": {
      "text/plain": [
       "'O número é palíndromo'"
      ]
     },
     "execution_count": 24,
     "metadata": {},
     "output_type": "execute_result"
    }
   ],
   "source": [
    "numero = \"2\"\n",
    "eh_palindromo(numero)"
   ]
  }
 ],
 "metadata": {
  "kernelspec": {
   "display_name": "Python 3",
   "language": "python",
   "name": "python3"
  },
  "language_info": {
   "codemirror_mode": {
    "name": "ipython",
    "version": 3
   },
   "file_extension": ".py",
   "mimetype": "text/x-python",
   "name": "python",
   "nbconvert_exporter": "python",
   "pygments_lexer": "ipython3",
   "version": "3.13.3"
  }
 },
 "nbformat": 4,
 "nbformat_minor": 5
}

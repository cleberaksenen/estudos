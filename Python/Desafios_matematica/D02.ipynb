{
 "cells": [
  {
   "cell_type": "markdown",
   "id": "0d5b5795",
   "metadata": {},
   "source": [
    "## 🔢 Desafio 2: Números Primos Gêmeos"
   ]
  },
  {
   "cell_type": "markdown",
   "id": "9d2e4f3a",
   "metadata": {},
   "source": [
    "### Dois números primos são chamados de primos gêmeos quando a diferença entre eles é exatamente 2.\n",
    "Exemplos: (3, 5); (5, 7); (11, 13); (17, 19)\n",
    "\n",
    "### 🧠 Tarefa:\n",
    "- Escreva uma função eh_primo(n) que verifica se um número é primo.\n",
    "- Encontre todos os pares de primos gêmeos entre 1 e 100."
   ]
  },
  {
   "cell_type": "code",
   "execution_count": 2,
   "id": "6eaae385",
   "metadata": {},
   "outputs": [],
   "source": [
    "def eh_primo(numero):\n",
    "    if numero <= 1:\n",
    "        return False\n",
    "    elif numero == 2:\n",
    "        return True\n",
    "    else:\n",
    "        for n in range(2, numero):\n",
    "            if numero % n == 0:\n",
    "                return False\n",
    "        return True"
   ]
  },
  {
   "cell_type": "code",
   "execution_count": null,
   "id": "a0ab398b",
   "metadata": {},
   "outputs": [
    {
     "data": {
      "text/plain": [
       "False"
      ]
     },
     "execution_count": 3,
     "metadata": {},
     "output_type": "execute_result"
    }
   ],
   "source": [
    "numero = int(input(\"Digite um número: \"))\n",
    "eh_primo(numero)"
   ]
  },
  {
   "cell_type": "code",
   "execution_count": 6,
   "id": "46f8486c",
   "metadata": {},
   "outputs": [
    {
     "name": "stdout",
     "output_type": "stream",
     "text": [
      "O número 0 é primo?  False\n",
      "O número 1 é primo?  False\n",
      "O número 2 é primo?  True\n",
      "O número 3 é primo?  True\n",
      "O número 4 é primo?  False\n",
      "O número 5 é primo?  True\n",
      "O número 6 é primo?  False\n",
      "O número 7 é primo?  True\n",
      "O número 8 é primo?  False\n",
      "O número 9 é primo?  False\n",
      "O número 10 é primo?  False\n",
      "O número 11 é primo?  True\n",
      "O número 12 é primo?  False\n",
      "O número 13 é primo?  True\n",
      "O número 14 é primo?  False\n",
      "O número 15 é primo?  False\n",
      "O número 16 é primo?  False\n",
      "O número 17 é primo?  True\n",
      "O número 18 é primo?  False\n",
      "O número 19 é primo?  True\n",
      "O número 20 é primo?  False\n",
      "O número 21 é primo?  False\n",
      "O número 22 é primo?  False\n",
      "O número 23 é primo?  True\n",
      "O número 24 é primo?  False\n",
      "O número 25 é primo?  False\n",
      "O número 26 é primo?  False\n",
      "O número 27 é primo?  False\n",
      "O número 28 é primo?  False\n",
      "O número 29 é primo?  True\n",
      "O número 30 é primo?  False\n",
      "O número 31 é primo?  True\n",
      "O número 32 é primo?  False\n",
      "O número 33 é primo?  False\n",
      "O número 34 é primo?  False\n",
      "O número 35 é primo?  False\n",
      "O número 36 é primo?  False\n",
      "O número 37 é primo?  True\n",
      "O número 38 é primo?  False\n",
      "O número 39 é primo?  False\n",
      "O número 40 é primo?  False\n",
      "O número 41 é primo?  True\n",
      "O número 42 é primo?  False\n",
      "O número 43 é primo?  True\n",
      "O número 44 é primo?  False\n",
      "O número 45 é primo?  False\n",
      "O número 46 é primo?  False\n",
      "O número 47 é primo?  True\n",
      "O número 48 é primo?  False\n",
      "O número 49 é primo?  False\n",
      "O número 50 é primo?  False\n",
      "O número 51 é primo?  False\n",
      "O número 52 é primo?  False\n",
      "O número 53 é primo?  True\n",
      "O número 54 é primo?  False\n",
      "O número 55 é primo?  False\n",
      "O número 56 é primo?  False\n",
      "O número 57 é primo?  False\n",
      "O número 58 é primo?  False\n",
      "O número 59 é primo?  True\n",
      "O número 60 é primo?  False\n",
      "O número 61 é primo?  True\n",
      "O número 62 é primo?  False\n",
      "O número 63 é primo?  False\n",
      "O número 64 é primo?  False\n",
      "O número 65 é primo?  False\n",
      "O número 66 é primo?  False\n",
      "O número 67 é primo?  True\n",
      "O número 68 é primo?  False\n",
      "O número 69 é primo?  False\n",
      "O número 70 é primo?  False\n",
      "O número 71 é primo?  True\n",
      "O número 72 é primo?  False\n",
      "O número 73 é primo?  True\n",
      "O número 74 é primo?  False\n",
      "O número 75 é primo?  False\n",
      "O número 76 é primo?  False\n",
      "O número 77 é primo?  False\n",
      "O número 78 é primo?  False\n",
      "O número 79 é primo?  True\n",
      "O número 80 é primo?  False\n",
      "O número 81 é primo?  False\n",
      "O número 82 é primo?  False\n",
      "O número 83 é primo?  True\n",
      "O número 84 é primo?  False\n",
      "O número 85 é primo?  False\n",
      "O número 86 é primo?  False\n",
      "O número 87 é primo?  False\n",
      "O número 88 é primo?  False\n",
      "O número 89 é primo?  True\n",
      "O número 90 é primo?  False\n",
      "O número 91 é primo?  False\n",
      "O número 92 é primo?  False\n",
      "O número 93 é primo?  False\n",
      "O número 94 é primo?  False\n",
      "O número 95 é primo?  False\n",
      "O número 96 é primo?  False\n",
      "O número 97 é primo?  True\n",
      "O número 98 é primo?  False\n",
      "O número 99 é primo?  False\n",
      "O número 100 é primo?  False\n"
     ]
    }
   ],
   "source": [
    "for numero in range(101):\n",
    "    print(f\"O número {numero} é primo? \", eh_primo(numero))"
   ]
  },
  {
   "cell_type": "code",
   "execution_count": 10,
   "id": "4383419e",
   "metadata": {},
   "outputs": [
    {
     "name": "stdout",
     "output_type": "stream",
     "text": [
      "A quantidade de primos gêmeos é 1\n"
     ]
    }
   ],
   "source": [
    "primos_gemeos = 0\n",
    "for numero in range(101):\n",
    "    if eh_primo(numero) == True and eh_primo(numero+2) == True:\n",
    "        primos_gemeos =+ 1\n",
    "print(f\"A quantidade de primos gêmeos é {primos_gemeos}\")"
   ]
  }
 ],
 "metadata": {
  "kernelspec": {
   "display_name": "Python 3",
   "language": "python",
   "name": "python3"
  },
  "language_info": {
   "codemirror_mode": {
    "name": "ipython",
    "version": 3
   },
   "file_extension": ".py",
   "mimetype": "text/x-python",
   "name": "python",
   "nbconvert_exporter": "python",
   "pygments_lexer": "ipython3",
   "version": "3.13.3"
  }
 },
 "nbformat": 4,
 "nbformat_minor": 5
}

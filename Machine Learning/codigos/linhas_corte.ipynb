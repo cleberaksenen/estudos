{
 "cells": [
  {
   "cell_type": "code",
   "execution_count": 10,
   "id": "fde60002",
   "metadata": {},
   "outputs": [],
   "source": [
    "import pandas as pd\n",
    "from sklearn import naive_bayes\n",
    "from sklearn import metrics\n",
    "import matplotlib.pyplot as plt"
   ]
  },
  {
   "cell_type": "code",
   "execution_count": 2,
   "id": "c72f77ae",
   "metadata": {},
   "outputs": [],
   "source": [
    "dados = pd.read_excel(\"./data/dados_cerveja_nota.xlsx\")\n",
    "\n",
    "## Definição da classe\n",
    "dados[\"aprovado\"] = dados[\"nota\"] >= 5"
   ]
  },
  {
   "cell_type": "code",
   "execution_count": 5,
   "id": "b568616e",
   "metadata": {},
   "outputs": [
    {
     "data": {
      "text/plain": [
       "0     False\n",
       "1     False\n",
       "2     False\n",
       "3     False\n",
       "4     False\n",
       "5      True\n",
       "6     False\n",
       "7      True\n",
       "8      True\n",
       "9      True\n",
       "10     True\n",
       "11     True\n",
       "12     True\n",
       "13     True\n",
       "14     True\n",
       "Name: aprovado, dtype: bool"
      ]
     },
     "execution_count": 5,
     "metadata": {},
     "output_type": "execute_result"
    }
   ],
   "source": [
    "dados[\"aprovado\"] "
   ]
  },
  {
   "cell_type": "markdown",
   "id": "9a8175d1",
   "metadata": {},
   "source": [
    "### Naive Bayes"
   ]
  },
  {
   "cell_type": "code",
   "execution_count": 3,
   "id": "ef5b917e",
   "metadata": {},
   "outputs": [],
   "source": [
    "NB = naive_bayes.GaussianNB()\n",
    "\n",
    "NB.fit(dados[[\"cerveja\"]], dados[\"aprovado\"]) #Aprendi\n",
    "\n",
    "NB_predict = NB.predict(dados[[\"cerveja\"]]) #Fiz a predição - array de True e False\n",
    "NB_proba = NB.predict_proba(dados[[\"cerveja\"]]) #Probabilidade de predição"
   ]
  },
  {
   "cell_type": "code",
   "execution_count": 4,
   "id": "47bc55a8",
   "metadata": {},
   "outputs": [
    {
     "data": {
      "text/plain": [
       "array([[9.98616189e-01, 1.38381133e-03],\n",
       "       [9.98616189e-01, 1.38381133e-03],\n",
       "       [9.92746772e-01, 7.25322814e-03],\n",
       "       [9.60133233e-01, 3.98667669e-02],\n",
       "       [7.97223228e-01, 2.02776772e-01],\n",
       "       [7.97223228e-01, 2.02776772e-01],\n",
       "       [3.73209836e-01, 6.26790164e-01],\n",
       "       [7.72029979e-02, 9.22797002e-01],\n",
       "       [7.72029979e-02, 9.22797002e-01],\n",
       "       [1.07880350e-02, 9.89211965e-01],\n",
       "       [1.31714470e-03, 9.98682855e-01],\n",
       "       [1.31714470e-03, 9.98682855e-01],\n",
       "       [1.47952552e-04, 9.99852047e-01],\n",
       "       [1.47952552e-04, 9.99852047e-01],\n",
       "       [1.47952552e-04, 9.99852047e-01]])"
      ]
     },
     "execution_count": 4,
     "metadata": {},
     "output_type": "execute_result"
    }
   ],
   "source": [
    "# Probabilidade de predição de ser classificado como: Não aprovado (0) e Aprovado (1)\n",
    "NB_proba"
   ]
  },
  {
   "cell_type": "markdown",
   "id": "a428be03",
   "metadata": {},
   "source": [
    "### A linha de corte por padrão é 50%, mas posso mecher nessa probabilidade"
   ]
  },
  {
   "cell_type": "code",
   "execution_count": 9,
   "id": "662693be",
   "metadata": {},
   "outputs": [
    {
     "name": "stdout",
     "output_type": "stream",
     "text": [
      "Matriz:\n",
      "        False  True\n",
      "False      6     0\n",
      "True       1     8\n",
      "Acurácia: 0.9333333333333333\n",
      "Precisão: 1.0\n",
      "Sensibilidade: 0.8888888888888888\n"
     ]
    }
   ],
   "source": [
    "### Fazendo um novo corte (apenas acima de 80% vai ser aprovado no modelo)\n",
    "NB_predict_2 = NB.predict_proba(dados[[\"cerveja\"]])[:,1] > 0.7\n",
    "\n",
    "#[:,1] -> pegar todas as linhas, apenas da coluna 1 (Aprovado)\n",
    "\n",
    "### Matriz de confusão\n",
    "NB_matriz = metrics.confusion_matrix(dados[\"aprovado\"], NB_predict_2)\n",
    "NB_matriz = pd.DataFrame(NB_matriz, \n",
    "                         index = [\"False\", \"True\"],\n",
    "                         columns=[\"False\", \"True\"])\n",
    "\n",
    "print(\"Matriz:\\n\", NB_matriz)\n",
    "\n",
    "### Métricas\n",
    "NB_acuracia = metrics.accuracy_score(dados[\"aprovado\"], NB_predict_2)\n",
    "print(\"Acurácia:\", NB_acuracia)\n",
    "\n",
    "NB_precisao = metrics.precision_score(dados[\"aprovado\"], NB_predict_2)\n",
    "print(\"Precisão:\", NB_precisao)\n",
    "\n",
    "NB_recall = metrics.recall_score(dados[\"aprovado\"], NB_predict_2)\n",
    "print(\"Sensibilidade:\", NB_recall)"
   ]
  },
  {
   "cell_type": "markdown",
   "id": "71f18407",
   "metadata": {},
   "source": [
    "### Curva ROC"
   ]
  },
  {
   "cell_type": "code",
   "execution_count": 12,
   "id": "d498616c",
   "metadata": {},
   "outputs": [
    {
     "data": {
      "text/plain": [
       "(array([0.        , 0.        , 0.        , 0.        , 0.        ,\n",
       "        0.16666667, 0.33333333, 0.66666667, 1.        ]),\n",
       " array([0.        , 0.33333333, 0.55555556, 0.66666667, 0.88888889,\n",
       "        0.88888889, 1.        , 1.        , 1.        ]),\n",
       " array([       inf, 0.99985205, 0.99868286, 0.98921197, 0.922797  ,\n",
       "        0.62679016, 0.20277677, 0.00725323, 0.00138381]))"
      ]
     },
     "execution_count": 12,
     "metadata": {},
     "output_type": "execute_result"
    }
   ],
   "source": [
    "roc_curve = metrics.roc_curve(dados[\"aprovado\"], NB_proba[:,1])\n",
    "roc_curve"
   ]
  },
  {
   "cell_type": "code",
   "execution_count": 15,
   "id": "cb7dd7a5",
   "metadata": {},
   "outputs": [
    {
     "data": {
      "image/png": "[encoded data removed]",
      "text/plain": [
       "<Figure size 640x480 with 1 Axes>"
      ]
     },
     "metadata": {},
     "output_type": "display_data"
    }
   ],
   "source": [
    "plt.plot(roc_curve[0], roc_curve[1])\n",
    "plt.plot([0,1], [0,1], \"--\")\n",
    "plt.grid(True)"
   ]
  },
  {
   "cell_type": "code",
   "execution_count": 17,
   "id": "4041c3c4",
   "metadata": {},
   "outputs": [
    {
     "data": {
      "text/plain": [
       "np.float64(0.9722222222222223)"
      ]
     },
     "execution_count": 17,
     "metadata": {},
     "output_type": "execute_result"
    }
   ],
   "source": [
    "### Área da curva ROC\n",
    "roc_auc = metrics.roc_auc_score(dados[\"aprovado\"], NB_proba[:,1])\n",
    "roc_auc"
   ]
  }
 ],
 "metadata": {
  "kernelspec": {
   "display_name": "Python 3",
   "language": "python",
   "name": "python3"
  },
  "language_info": {
   "codemirror_mode": {
    "name": "ipython",
    "version": 3
   },
   "file_extension": ".py",
   "mimetype": "text/x-python",
   "name": "python",
   "nbconvert_exporter": "python",
   "pygments_lexer": "ipython3",
   "version": "3.13.3"
  }
 },
 "nbformat": 4,
 "nbformat_minor": 5
}
